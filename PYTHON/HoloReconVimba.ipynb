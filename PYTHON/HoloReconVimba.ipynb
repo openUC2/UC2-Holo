{
 "cells": [
  {
   "cell_type": "markdown",
   "id": "e3681e39",
   "metadata": {},
   "source": [
    "# Reconstruct hologram in off-axis configuration"
   ]
  },
  {
   "cell_type": "code",
   "execution_count": 1,
   "id": "17d253f2",
   "metadata": {},
   "outputs": [
    {
     "name": "stdout",
     "output_type": "stream",
     "text": [
      "Problem setting classpath. Switching to conventional viewer by setting __DEFAULTS__['IMG_VIEWER'] = 'NIP_VIEW' \n"
     ]
    }
   ],
   "source": [
    "%matplotlib notebook\n",
    "from time import sleep\n",
    "from pymba import Vimba, VimbaException\n",
    "from typing import Optional\n",
    "import cv2\n",
    "from pymba import Frame\n",
    "import numpy as np\n",
    "import NanoImagingPack as nip\n",
    "import time\n",
    "import threading\n",
    "import matplotlib.pyplot as plt\n",
    "\n",
    "from ipywidgets import *\n"
   ]
  },
  {
   "cell_type": "code",
   "execution_count": 2,
   "id": "f7822b73",
   "metadata": {},
   "outputs": [],
   "source": [
    "class VimbaHolo:\n",
    "    def __init__(self):\n",
    "        self.vimba = Vimba()\n",
    "        self.vimba.startup()\n",
    "        self.camera = self.vimba.camera(0)\n",
    "        self.camera.open()\n",
    "        self.is_streaming = False\n",
    "        self.camera.arm('SingleFrame')\n",
    "        self.Nx=self.Ny=400\n",
    "        self.windowid = str(np.squeeze(np.random.randint(10000)))\n",
    "        \n",
    "        \n",
    "        self.frame = None\n",
    "        \n",
    "\n",
    "        self.comp_phase_1 = 5e-4\n",
    "        self.comp_phase_2 = -2.5e-4\n",
    "        self.cy, self.cx = 201,1045\n",
    "\n",
    "\n",
    "    \n",
    "    def close(self):\n",
    "        self.stopstreaming()\n",
    "        self.camera.disarm()\n",
    "        self.camera.close()\n",
    "        self.vimba.shutdown()\n",
    "    \n",
    "    def set_exposuretime(self, value=50000):\n",
    "        # read a feature value\n",
    "        FEATURE_NAME = \"ExposureTime\"\n",
    "        feature = self.camera.feature(FEATURE_NAME)\n",
    "        feature.value = value\n",
    "        print(\"Setting Value to: \"+str(value))\n",
    "        \n",
    "    def get_exposuretime(self):\n",
    "        FEATURE_NAME = \"ExposureTime\"\n",
    "        feature = self.camera.feature(FEATURE_NAME)\n",
    "        return feature.value\n",
    "        \n",
    "        \n",
    "    def framegenerator(self, callback=None):\n",
    "        while(self.is_streaming):\n",
    "            self.frame = self.camera.acquire_frame().buffer_data_numpy()\n",
    "            if callback is not None:\n",
    "                callback(self.frame)\n",
    "        \n",
    "    def startstreaming(self, callback=None):\n",
    "        if not self.is_streaming:\n",
    "            self.is_streaming = True\n",
    "            self.task = threading.Thread(target=self.framegenerator, args=(callback,))\n",
    "            self.task.start()\n",
    "\n",
    "        \n",
    "    def stopstreaming(self):\n",
    "        if self.is_streaming:\n",
    "            self.is_streaming = False\n",
    "            self.task.join()\n",
    "        \n",
    "    \n",
    "    def get_ft(self):\n",
    "        return nip.ft(self.frame)\n",
    "    \n",
    "    def set_cx(self, cx):\n",
    "        self.cx = cx\n",
    "    \n",
    "    def set_cy(self, cy):\n",
    "        self.cy = cy\n",
    "        \n",
    "    def set_comp_phase_1(self, value=0):\n",
    "        self.comp_phase_1 = value\n",
    "     \n",
    "    def set_comp_phase_2(self, value=0):\n",
    "        self.comp_phase_2 = value\n",
    "        \n",
    "    def AbsNormInt8(self, image, is_ft = False):\n",
    "        if is_ft:\n",
    "            image = np.log(1+np.abs(image))\n",
    "        image /= np.max(image)\n",
    "        image *=255\n",
    "        return image\n",
    "        \n",
    "    def displayer(self, frame):\n",
    "        # compute the fourier transform and add a parabolic phase term too shift back the reference\n",
    "        comp_phase = np.exp(1j*nip.rr2(frame.shape)*self.comp_phase_1)\n",
    "        frame_ft_comp = nip.ft(frame*comp_phase)\n",
    "        frame_ft_comp_abs = self.AbsNormInt8(frame_ft_comp, is_ft=True)\n",
    "\n",
    "        # extract CC term\n",
    "        frame_ft_cc = nip.extract(frame_ft_comp, (self.Nx, self.Ny), (self.cx, self.cy), checkComplex=False)\n",
    "        \n",
    "        # compensate phase in reconstruction\n",
    "        comp_phase_2 = np.exp(1j*nip.rr2(frame_ft_cc.shape)*self.comp_phase_2)\n",
    "        # reconstruct \n",
    "        frame_amp = nip.ift(frame_ft_cc)*comp_phase_2\n",
    "        frame_ang = self.AbsNormInt8(np.angle(frame_amp))\n",
    "        frame_abs = self.AbsNormInt8(np.abs(frame_amp))\n",
    "\n",
    "        # display stuff\n",
    "        cc_term_norm = self.AbsNormInt8(frame_ft_cc, is_ft=True)\n",
    "        \n",
    "\n",
    "        image_1 = np.hstack((frame_ft_comp_abs, frame))\n",
    "        image_2 = np.hstack((frame_abs,frame_ang, cc_term_norm))\n",
    "\n",
    "        image_1 = cv2.resize(image_1, dsize = None, fx=.4, fy=.4)\n",
    "\n",
    "        # display image\n",
    "        cv2.imshow('Image' + self.windowid, np.uint8(image_1))\n",
    "        cv2.imshow('Image FT' + self.windowid, np.uint8(image_2))\n",
    "        if cv2.waitKey(1) == 27: \n",
    "            return  # esc to quit\n",
    "\n",
    "\n",
    "\n",
    "        \n",
    "        "
   ]
  },
  {
   "cell_type": "code",
   "execution_count": 3,
   "id": "fdfe6e05",
   "metadata": {},
   "outputs": [],
   "source": [
    "camera = VimbaHolo()\n"
   ]
  },
  {
   "cell_type": "code",
   "execution_count": 4,
   "id": "4f346a4c",
   "metadata": {},
   "outputs": [],
   "source": [
    "callbackfct = camera.displayer\n",
    "camera.startstreaming(callbackfct)"
   ]
  },
  {
   "cell_type": "code",
   "execution_count": 5,
   "id": "c45143f4",
   "metadata": {},
   "outputs": [
    {
     "data": {
      "application/vnd.jupyter.widget-view+json": {
       "model_id": "6fa9813eb0bf4e6399d33df589b26c2a",
       "version_major": 2,
       "version_minor": 0
      },
      "text/plain": [
       "interactive(children=(IntSlider(value=5, description='exposuretime'), Output()), _dom_classes=('widget-interac…"
      ]
     },
     "metadata": {},
     "output_type": "display_data"
    },
    {
     "data": {
      "application/vnd.jupyter.widget-view+json": {
       "model_id": "741fe10bc8bc4b2584210f377aea67b2",
       "version_major": 2,
       "version_minor": 0
      },
      "text/plain": [
       "interactive(children=(IntSlider(value=1000, description='cx', max=1000), Output()), _dom_classes=('widget-inte…"
      ]
     },
     "metadata": {},
     "output_type": "display_data"
    },
    {
     "data": {
      "application/vnd.jupyter.widget-view+json": {
       "model_id": "ec727f4e69c944bdab13ddad7899ab8d",
       "version_major": 2,
       "version_minor": 0
      },
      "text/plain": [
       "interactive(children=(IntSlider(value=201, description='cy', max=1500), Output()), _dom_classes=('widget-inter…"
      ]
     },
     "metadata": {},
     "output_type": "display_data"
    },
    {
     "data": {
      "application/vnd.jupyter.widget-view+json": {
       "model_id": "3dfa9546f95149f4bb923df8b75aca5a",
       "version_major": 2,
       "version_minor": 0
      },
      "text/plain": [
       "interactive(children=(FloatSlider(value=0.0005, description='compphase1', max=7.0), Output()), _dom_classes=('…"
      ]
     },
     "metadata": {},
     "output_type": "display_data"
    },
    {
     "data": {
      "application/vnd.jupyter.widget-view+json": {
       "model_id": "5f992037f54e4d1399ef59806bdc37b5",
       "version_major": 2,
       "version_minor": 0
      },
      "text/plain": [
       "interactive(children=(FloatSlider(value=-0.00025, description='compphase2', max=5.0, min=-5.0), Output()), _do…"
      ]
     },
     "metadata": {},
     "output_type": "display_data"
    }
   ],
   "source": [
    "@widgets.interact(exposuretime=(0, 100))\n",
    "def exposuretime(exposuretime=5):\n",
    "    camera.set_exposuretime(exposuretime*1000)\n",
    "\n",
    "@widgets.interact(cx=(0, 1000))     \n",
    "def cx(cx=camera.cx):\n",
    "    camera.set_cx(cx)\n",
    "\n",
    "@widgets.interact(cy=(0, 1500))     \n",
    "def cy(cy=camera.cy):\n",
    "    camera.set_cy(cy)\n",
    "    \n",
    "@widgets.interact(compphase1=(0, 7.))   \n",
    "def compphase1(compphase1=camera.comp_phase_1):\n",
    "    camera.set_comp_phase_1(compphase1*1e-4)\n",
    "\n",
    "@widgets.interact(compphase2=(-5., 5.))     \n",
    "def compphase2(compphase2=camera.comp_phase_2):\n",
    "    camera.set_comp_phase_2(compphase2*1e-4)"
   ]
  },
  {
   "cell_type": "code",
   "execution_count": 9,
   "id": "c7b200d9",
   "metadata": {},
   "outputs": [],
   "source": [
    "\n",
    "camera.stopstreaming()"
   ]
  },
  {
   "cell_type": "code",
   "execution_count": 10,
   "id": "d66118c4",
   "metadata": {},
   "outputs": [],
   "source": [
    "camera.close()"
   ]
  },
  {
   "cell_type": "code",
   "execution_count": 7,
   "id": "51ce3e9f",
   "metadata": {},
   "outputs": [],
   "source": [
    "camera.Nx=camera.Ny=300"
   ]
  },
  {
   "cell_type": "code",
   "execution_count": 14,
   "id": "ebf6e153",
   "metadata": {},
   "outputs": [],
   "source": []
  },
  {
   "cell_type": "code",
   "execution_count": null,
   "id": "2088ab61",
   "metadata": {},
   "outputs": [],
   "source": []
  }
 ],
 "metadata": {
  "kernelspec": {
   "display_name": "Python 3 (ipykernel)",
   "language": "python",
   "name": "python3"
  },
  "language_info": {
   "codemirror_mode": {
    "name": "ipython",
    "version": 3
   },
   "file_extension": ".py",
   "mimetype": "text/x-python",
   "name": "python",
   "nbconvert_exporter": "python",
   "pygments_lexer": "ipython3",
   "version": "3.8.12"
  }
 },
 "nbformat": 4,
 "nbformat_minor": 5
}
